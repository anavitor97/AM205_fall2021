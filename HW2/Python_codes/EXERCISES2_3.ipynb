{
 "cells": [
  {
   "cell_type": "markdown",
   "source": "### Exercise 2 and 3\n\n\nIn exercise 2 I collaborated with: Adriana, Kara, Collin.\n\nIn exercise 3 I collaborated with Marius and Adriana.",
   "metadata": {
    "tags": [],
    "cell_id": "00000-c2050245-8294-45f8-bef6-b2f6ca4313b6",
    "deepnote_cell_type": "markdown"
   }
  },
  {
   "cell_type": "code",
   "metadata": {
    "tags": [],
    "cell_id": "00000-c8fed9ec-8c48-44c0-bbe7-0794a7b240f9",
    "deepnote_to_be_reexecuted": false,
    "source_hash": "813c91df",
    "execution_start": 1634053874584,
    "execution_millis": 1142,
    "deepnote_cell_type": "code"
   },
   "source": "import numpy as np\nimport scipy.linalg as linalg\nfrom numpy.linalg import norm as norm\nimport matplotlib.pyplot as plt\nimport numpy as np\nimport sys\n",
   "outputs": [],
   "execution_count": null
  },
  {
   "cell_type": "code",
   "source": "############################\n# THE BINARY MULTIPLICATION CODE HAS BEEN GIVEN BY CHRIS IN THE AM205 FILES FOLDER\n############################\n\nimport numpy as np\nimport sys\n\n# This code provides an example of doing arithmetic on the binary set {0,1}. It\n# takes advantage of the fact that the binary \"+\" and \"*\" operations are\n# equivalent to the bitwise logic operators, which are built into Python. If\n# you are unfamilar with bitwise operators, see the following page for more\n# information:\n#\n# http://en.wikipedia.org/wiki/Bitwise_operation\n#\n# Binary addition is equivalent to the \"exclusive or\" or \"XOR\" operation, which\n# is denoted by the \"^\" operator in Python. Hence, whenever we see a \"+\" or a\n# \"-\", we replace it with a \"^\".\n#\n# Binary multiplication is equivalent to the \"AND\" operation, which is denoted\n# by the \"&\" operator in Python. Hence, whenever we see a \"*\" we replace it\n# with a \"&\".\n#\n# The following example code implements matrix multiplication on the binary\n# set, using the above substitutions. In addition, since the bitwise operators\n# only work on integers, each matrix is initialized to be integers using the\n# option \"dtype=np.int8\".\n#\n# This code does not have any examples of division. However, implementing \"x/y\"\n# can be done in the following way:\n#   - if y==1 then x/y evaluates to x,\n#   - if y==0 then an error is given.\n\n# Function to calculate binary matrix multiplication\ndef bin_mul(c,d):\n    \n    # Check that the dimensions of the matrices are compatible\n    (m,n)=c.shape\n    (nn,p)=d.shape\n    #print(m,n)\n    #print(nn,p)\n    if n!=nn:\n        print(\"Matrix size mismatch\")\n        sys.exit()\n\n    # Initalize blank matrix of integer zeros\n    e=np.zeros((m,p),dtype=np.int8)\n   # print(e)\n\n    # Calculate each term, using \"&\" instead of \"*\" and \"^\" instead of \"+\"\n    for i in range(m):\n        for j in range(p):\n            for k in range(n):\n                e[i,j]= e[i,j]^(c[i,k]&d[k,j])\n                #print(e[i,j])\n    return e\n\n",
   "metadata": {
    "tags": [],
    "cell_id": "00001-b5f16576-b651-4048-8fea-d4fdfc71fc40",
    "deepnote_to_be_reexecuted": false,
    "source_hash": "7c9eb809",
    "execution_start": 1634053875735,
    "execution_millis": 16,
    "deepnote_cell_type": "code"
   },
   "outputs": [],
   "execution_count": null
  },
  {
   "cell_type": "code",
   "source": "# These are the L and U matrix given in the exercise 2\nl=np.array([[1,0,0,0],[0,1,0,0],[1,1,1,0],[1,0,1,1]],dtype=np.int8)\nu=np.array([[1,0,1,0],[0,1,1,1],[0,0,1,0],[0,0,0,1]],dtype=np.int8)\n\n# Carry out binary matrix multiplication and print the result\na=bin_mul(l,u)\nprint(\"This should result in the A given from the exercise:\")\nprint(a)",
   "metadata": {
    "tags": [],
    "cell_id": "00002-f0028854-289d-4c5f-8e84-a7af1869b160",
    "deepnote_to_be_reexecuted": false,
    "source_hash": "80646ee9",
    "execution_start": 1634053875751,
    "execution_millis": 26,
    "deepnote_cell_type": "code"
   },
   "outputs": [
    {
     "name": "stdout",
     "text": "This should result in the A given from the exercise:\n[[1 0 1 0]\n [0 1 1 1]\n [1 1 1 1]\n [1 0 0 1]]\n",
     "output_type": "stream"
    }
   ],
   "execution_count": null
  },
  {
   "cell_type": "markdown",
   "source": "## Exercise 2\n\n\n",
   "metadata": {
    "tags": [],
    "cell_id": "00001-c02ce902-0418-4065-8f13-4e9357f668bb",
    "deepnote_cell_type": "markdown"
   }
  },
  {
   "cell_type": "markdown",
   "source": "#### Explanation of rank and nullspaces\n\nIf a given matrix A is singular, it means that it does not have full rank. This means that the some columns of this matrix are a linear combination of another column. In case the matrix A doesn't have full rank, it can't be inverted. \n\nThe rank of a matrix is given by the amount of columns that are linearly idependdent from each other. If a matrix has full rank, that matrix is non-singular. In case no column is a linear combination of any other column, then it means that our matrix has full rank and it can be inverted.\n\nA way to check if a matrix is singular (not full rank), or non-singular (full rank), can be to check if the L matrix (coming from the LU factorization), has any 0 in its diagonal. In case there is one 0, it means that a column is a linear combination from another. This means that the rank of A is n-1 (where n is the number of columns). In case there are two 0s in the diagonal of L, it means that the rank of A will be n-2. And so on. These 'missing' linear independent columns that are needed to achieve full rank can be considered as an amount called \"nullspaces\". In case a matrix A has rank n-2, it means that it has 2 nullspaces. On the other hand, a matrix A with full rank, will have 0 nullspaces.\n\n",
   "metadata": {
    "tags": [],
    "cell_id": "00002-0bdb5b6d-004d-48a4-967b-0c2134c65b77",
    "deepnote_cell_type": "markdown"
   }
  },
  {
   "cell_type": "code",
   "source": "#Problem 2a: Forward\n\nL=np.array([[1,0,0,0],[0,1,0,0],[1,1,1,0],[1,0,1,1]],dtype=np.int8)\nU=np.array([[1,0,1,0],[0,1,1,1],[0,0,1,0],[0,0,0,1]],dtype=np.int8)\nA = np.array([[1,0,1,0],[0,1,1,1],[1,1,1,1],[1,0,0,1]],dtype=np.int8)\n",
   "metadata": {
    "tags": [],
    "cell_id": "00005-2ca1a4ad-4deb-4d4a-b779-afd4cb612e84",
    "deepnote_to_be_reexecuted": false,
    "source_hash": "74e21417",
    "execution_start": 1634053875773,
    "execution_millis": 10,
    "deepnote_cell_type": "code"
   },
   "outputs": [],
   "execution_count": null
  },
  {
   "cell_type": "markdown",
   "source": "In exercise 2a we are given a matrix L. In this exercise we take into consideration the linear system:  \n\n                            Lx=b.\n                            \nHere we want to find the solution x to this linear system. We want to use the forward substitution algorithm in the slide 38 of the Unit 2. \n\nGiven that the matrix A at hand is a binary matrix, multiplications will be performed with the bitwise multiplication operator \"&\", and substractions and additions are performed with the bitwise addition operator \"^\".\n\n\n#### How I am checking for singularity here in exercise 2\nAdditionally, I also check if the matrix A is singular by looking for 0s in the diagonal. In case theere is a 0 in the diagonal of L, it means that the multiplciation of the diagonal of L will be 0. If that is the case, I return an error \"Matrix is singular\".",
   "metadata": {
    "tags": [],
    "cell_id": "00006-f9307b06-9fee-49e0-81fd-936f03b5692f",
    "deepnote_cell_type": "markdown"
   }
  },
  {
   "cell_type": "code",
   "source": "\n# Ax = b or LUx = b\n# need b in order to calculate x \n\n# HAVE TO HARDCODE  the triangular matrix\n# i row j column, a = L \n# x & y Does a \"bitwise and\". Each bit of the output is 1 if the corresponding bit of x AND of y is 1, otherwise it's 0.\n# 1 x 1 = 1 & 1\n# 1 + 1 = 1 ^ 1\n\n\n\n##########FORWARD SUBSTITUTION\ndef fsolve(L,b):\n    (m,n) = L.shape\n    \n    if L.diagonal().prod() == 0:\n        raise ValueError(\"Matrix is singular\") #if there is a 0 on the diagonal\n    else: \n        # HERE I FOLLOW THE ALGORITHM IN SLIDE 38\n        x = np.zeros((m,1),dtype=np.int8) #Creatina a column vector x with 0s\n        x[0] = b[0]/L[0,0]\n        \n        for j in range(1,m):\n            sum_k = 0\n            for k in range(n):\n                # SUMMING FROM k=1 to j-1\n                sum_k = sum_k ^ (L[j][k] & x[k])\n            # xi (building a b vector) = b[0,0] + (L[0,0]) * x[0])\n     \n            x[j] = (b[j] ^ sum_k)/L[j][j]  # Need to divide xi by the diagonal position \n    return x",
   "metadata": {
    "tags": [],
    "cell_id": "00005-0dd32af5-f098-4445-a7e6-c1a08a0d4cfb",
    "deepnote_to_be_reexecuted": false,
    "source_hash": "46ec03c2",
    "execution_start": 1634053875788,
    "execution_millis": 8,
    "deepnote_cell_type": "code"
   },
   "outputs": [],
   "execution_count": null
  },
  {
   "cell_type": "code",
   "source": "b = np.array([[1,1,0,0]]).T\nx = fsolve(L,b)\nx\n",
   "metadata": {
    "tags": [],
    "cell_id": "00008-303522df-5f96-4f38-a9d7-be74911e6eb9",
    "deepnote_to_be_reexecuted": false,
    "source_hash": "5577c1b4",
    "execution_start": 1634053875844,
    "execution_millis": 9,
    "deepnote_cell_type": "code"
   },
   "outputs": [
    {
     "output_type": "execute_result",
     "execution_count": 6,
     "data": {
      "text/plain": "array([[1],\n       [1],\n       [0],\n       [1]], dtype=int8)"
     },
     "metadata": {}
    }
   ],
   "execution_count": null
  },
  {
   "cell_type": "code",
   "source": "#b = np.array([[1,1,0,1]]).T\nbin_mul(L,b)\nx",
   "metadata": {
    "tags": [],
    "cell_id": "00009-e0d4c155-0469-4ef5-89fa-1867548f2a08",
    "deepnote_to_be_reexecuted": false,
    "source_hash": "e2137de1",
    "execution_start": 1634053875844,
    "execution_millis": 37,
    "deepnote_cell_type": "code"
   },
   "outputs": [
    {
     "output_type": "execute_result",
     "execution_count": 7,
     "data": {
      "text/plain": "array([[1],\n       [1],\n       [0],\n       [1]], dtype=int8)"
     },
     "metadata": {}
    }
   ],
   "execution_count": null
  },
  {
   "cell_type": "code",
   "source": "#b = np.array([[1,1,0,1]]).T\nbin_mul(L,b) == fsolve(L,b)\n",
   "metadata": {
    "tags": [],
    "cell_id": "00009-f7515223-5382-49ac-84a4-0a792104a43f",
    "deepnote_to_be_reexecuted": false,
    "source_hash": "4026f505",
    "execution_start": 1634053875882,
    "execution_millis": 10,
    "deepnote_cell_type": "code"
   },
   "outputs": [
    {
     "output_type": "execute_result",
     "execution_count": 8,
     "data": {
      "text/plain": "array([[ True],\n       [ True],\n       [ True],\n       [ True]])"
     },
     "metadata": {}
    }
   ],
   "execution_count": null
  },
  {
   "cell_type": "markdown",
   "source": "My forward subtitution matches the binary multiplicatiion solution from the code of Chris. Hence, the forward subtitution code is ok.",
   "metadata": {
    "tags": [],
    "cell_id": "00011-9c7b5d38-497d-4e9a-8dd6-fff7be371a41",
    "deepnote_cell_type": "markdown"
   }
  },
  {
   "cell_type": "markdown",
   "source": "## 2b\n",
   "metadata": {
    "tags": [],
    "cell_id": "00012-64507cf4-a428-4dd2-91a5-7ebca9758322",
    "deepnote_cell_type": "markdown"
   }
  },
  {
   "cell_type": "markdown",
   "source": "In exercise 2b we are given a matrix U. In this exercise we take into consideration the linear system:  \n\n                            Ux=b.\n                            \nHere we want to find the solution x to this linear system. We want to use the backward substitution algorithm in the slide 37 of the Unit 2. \n\nAlso here we check if A is singular by looking for 0s in the diagonal of U. if the product of the diagonal is 0, there is a 0 in the diagonal, hence the matrix will be singular, i.e. not full rank, i.e. not invertible.",
   "metadata": {
    "tags": [],
    "cell_id": "00013-fee82c65-13d9-407f-ba69-127d94dc012c",
    "deepnote_cell_type": "markdown"
   }
  },
  {
   "cell_type": "code",
   "source": "# Problem 2b: Backward\n \ndef rsolve(U,b):\n    (m,n) = U.shape\n    # HERE IS CHECK FOR SINGULARITY\n    if U.diagonal().prod() == 0:\n        raise ValueError(\"Matrix is singular\")\n    else:\n        # HERE I USE THE ALGORITH IN SLIDE 37 \n        x = np.zeros((m,1),dtype=np.int8)\n        # HERE THE RANGE GOES FROM THE BOTTOM TO THE TOP, BECAUSE U IS THE\n        # MATRIX WHERE THE LOWER TRIANGULAR HAS ALL THE 0S AND THE 1 IS AT THE LAST\n        # ROW AND LAST COLUMN\n        for j in range(m-1, -1 ,-1):\n            sum_k = 0\n            for k in range(j+1,n):\n                sum_k = sum_k^(U[j][k] & x[k])\n            x[j] = (b[j] ^ sum_k)/U[j][j]                                                                                                                                                                                                             \n    return x",
   "metadata": {
    "tags": [],
    "cell_id": "00016-88be04e4-d8e0-466d-9ebb-616d7f9d79ff",
    "deepnote_to_be_reexecuted": false,
    "source_hash": "802e291c",
    "execution_start": 1634053875883,
    "execution_millis": 1,
    "deepnote_cell_type": "code"
   },
   "outputs": [],
   "execution_count": null
  },
  {
   "cell_type": "code",
   "source": "b = np.array([[1],[0],[1],[1]])\nx = rsolve(U,b)\nx",
   "metadata": {
    "tags": [],
    "cell_id": "00016-74e058c1-8bec-496f-9c7e-06ff6a15b89b",
    "deepnote_to_be_reexecuted": false,
    "source_hash": "d9d81f79",
    "execution_start": 1634053875888,
    "execution_millis": 13,
    "deepnote_cell_type": "code"
   },
   "outputs": [
    {
     "output_type": "execute_result",
     "execution_count": 10,
     "data": {
      "text/plain": "array([[0],\n       [0],\n       [1],\n       [1]], dtype=int8)"
     },
     "metadata": {}
    }
   ],
   "execution_count": null
  },
  {
   "cell_type": "code",
   "source": "b = np.array([[1],[0],[1],[1]])\nbin_mul(U,b)\nx",
   "metadata": {
    "tags": [],
    "cell_id": "00017-ad77f686-3d2e-49ce-bcca-2116479e2cdd",
    "deepnote_to_be_reexecuted": false,
    "source_hash": "58e7ae46",
    "execution_start": 1634053875904,
    "execution_millis": 63,
    "deepnote_cell_type": "code"
   },
   "outputs": [
    {
     "output_type": "execute_result",
     "execution_count": 11,
     "data": {
      "text/plain": "array([[0],\n       [0],\n       [1],\n       [1]], dtype=int8)"
     },
     "metadata": {}
    }
   ],
   "execution_count": null
  },
  {
   "cell_type": "markdown",
   "source": "My backward subtitution matches the binary multiplicatiion solution from the code of Chris. Hence, the backward subtitution code is ok.",
   "metadata": {
    "tags": [],
    "cell_id": "00018-5c49ac5d-e4b0-4de2-877c-1fae0f8acd5e",
    "deepnote_cell_type": "markdown"
   }
  },
  {
   "cell_type": "code",
   "source": "rsolve(U,b) == bin_mul(U,b)",
   "metadata": {
    "tags": [],
    "cell_id": "00018-3f9599ec-8759-47f2-88aa-abed41063ce3",
    "deepnote_to_be_reexecuted": false,
    "source_hash": "dd80ee39",
    "execution_start": 1634053875926,
    "execution_millis": 41,
    "deepnote_cell_type": "code"
   },
   "outputs": [
    {
     "output_type": "execute_result",
     "execution_count": 12,
     "data": {
      "text/plain": "array([[ True],\n       [ True],\n       [ True],\n       [ True]])"
     },
     "metadata": {}
    }
   ],
   "execution_count": null
  },
  {
   "cell_type": "markdown",
   "source": "## 2c",
   "metadata": {
    "tags": [],
    "cell_id": "00019-b82974b5-92b6-43e7-98e1-2aa9aeb8eb18",
    "deepnote_cell_type": "markdown"
   }
  },
  {
   "cell_type": "code",
   "source": "# Problem 2c: Partial Pivoting\n# HAVE TO HARD CODE\n# USING THE PARTIAL PIVOTING CODE FROM SLIDE 70\n\ndef ppsolve(A):\n    (m,n) = A.shape #where A is square, hence m=n\n    U = np.array(A)\n\n    # The np.eye function returns a 2-D array with ones\n    # on the diagonal and zeros elsewhere.\n\n    P = np.eye(m).astype(np.int8)\n    L = np.eye(n).astype(np.int8)\n    \n    for j in range(n-1):  # columns\n        if not all(U[j:,j] == 0): #As long as none element of the diagonal is 0\n            # Here I am looking through columns for\n            # the largest value in the row\n            \n            # This index i will be the index of the row we want to shift.\n            i = j + np.argmax(U[j:,j])  \n            \n            # Interchange rows of U\n            # In U, the 0s are in the left of the matrix\n            # The values are to the right of the matrix.\n            # Hence, in this code, we are shifting what is to the right\n            # of the matrix. I.e. from column j to the rest, with j:\n            U[[j,i], j:] = U[[i,j],j:] \n\n            # Interchange rows of L\n            # In L, the 0s are in the right of the matrix\n            # The values are to the left of the matrix.\n            # Hence, in this code, we are shifting what is to the left\n            # of the matrix. I.e. UP TO column j, with :j\n            L[[j,i], :j] = L[[i,j],:j]\n\n            # P is KEEPING TRACK of what is being changed.\n            # interchange rows of P\n            P[[i,j],:] = P[[j,i],:]\n\n            for i in range(j+1,n): # rows\n                L[i,j] = U[i,j]/U[j,j]\n\n                for k in range(j,n):  # k colums\n                    U[i,k] = U[i,k] ^(L[i,j]& U[j,k])\n\n   \n    \n    return(P,L,U)\n",
   "metadata": {
    "tags": [],
    "cell_id": "00020-c90268da-2784-4c9a-8369-a69833c93249",
    "deepnote_to_be_reexecuted": false,
    "source_hash": "feabe1c5",
    "execution_start": 1634053875948,
    "execution_millis": 62521151,
    "deepnote_cell_type": "code"
   },
   "outputs": [],
   "execution_count": null
  },
  {
   "cell_type": "code",
   "source": "A = np.array([[1,0,1,0],[0,1,1,1],[1,1,1,1],[1,0,0,1]],dtype=np.int8)\nP, L, U = ppsolve(A)",
   "metadata": {
    "tags": [],
    "cell_id": "00022-2569986f-eb65-4c97-8e77-5ed61ad586ef",
    "deepnote_to_be_reexecuted": false,
    "source_hash": "19a2a3a0",
    "execution_start": 1634053875953,
    "execution_millis": 62521154,
    "deepnote_cell_type": "code"
   },
   "outputs": [],
   "execution_count": null
  },
  {
   "cell_type": "code",
   "source": "P",
   "metadata": {
    "tags": [],
    "cell_id": "00022-ef8329df-0934-451b-8f0f-569300127796",
    "deepnote_to_be_reexecuted": false,
    "source_hash": "7a3343cd",
    "execution_start": 1634053875955,
    "execution_millis": 16,
    "deepnote_cell_type": "code"
   },
   "outputs": [
    {
     "output_type": "execute_result",
     "execution_count": 15,
     "data": {
      "text/plain": "array([[1, 0, 0, 0],\n       [0, 1, 0, 0],\n       [0, 0, 1, 0],\n       [0, 0, 0, 1]], dtype=int8)"
     },
     "metadata": {}
    }
   ],
   "execution_count": null
  },
  {
   "cell_type": "code",
   "source": "L",
   "metadata": {
    "tags": [],
    "cell_id": "00023-774ef86c-5d5e-43f2-b5c4-e901406efeb8",
    "deepnote_to_be_reexecuted": false,
    "source_hash": "cb076e6d",
    "execution_start": 1634053875977,
    "execution_millis": 14,
    "deepnote_cell_type": "code"
   },
   "outputs": [
    {
     "output_type": "execute_result",
     "execution_count": 16,
     "data": {
      "text/plain": "array([[1, 0, 0, 0],\n       [0, 1, 0, 0],\n       [1, 1, 1, 0],\n       [1, 0, 1, 1]], dtype=int8)"
     },
     "metadata": {}
    }
   ],
   "execution_count": null
  },
  {
   "cell_type": "code",
   "source": "U",
   "metadata": {
    "tags": [],
    "cell_id": "00024-b49d7acb-28eb-4654-95ef-6b87699b669f",
    "deepnote_to_be_reexecuted": false,
    "source_hash": "930790ae",
    "execution_start": 1634053876016,
    "execution_millis": 0,
    "deepnote_cell_type": "code"
   },
   "outputs": [
    {
     "output_type": "execute_result",
     "execution_count": 17,
     "data": {
      "text/plain": "array([[1, 0, 1, 0],\n       [0, 1, 1, 1],\n       [0, 0, 1, 0],\n       [0, 0, 0, 1]], dtype=int8)"
     },
     "metadata": {}
    }
   ],
   "execution_count": null
  },
  {
   "cell_type": "code",
   "source": "bin_mul(L,U) == bin_mul(P,A)",
   "metadata": {
    "tags": [],
    "cell_id": "00025-a299b427-4deb-4128-8e38-5e18ca335fce",
    "deepnote_to_be_reexecuted": false,
    "source_hash": "5cca86a8",
    "execution_start": 1634053876017,
    "execution_millis": 3,
    "deepnote_cell_type": "code"
   },
   "outputs": [
    {
     "output_type": "execute_result",
     "execution_count": 18,
     "data": {
      "text/plain": "array([[ True,  True,  True,  True],\n       [ True,  True,  True,  True],\n       [ True,  True,  True,  True],\n       [ True,  True,  True,  True]])"
     },
     "metadata": {}
    }
   ],
   "execution_count": null
  },
  {
   "cell_type": "markdown",
   "source": "## 2 d\n\nIn this exercise we are using the matrices given by the files q2_small and q2_large. Here we have to solve for x in the linear system:\n\n                                      Ax=b",
   "metadata": {
    "tags": [],
    "cell_id": "00027-7cd47285-a7f6-4771-be89-d2bcc67bca69",
    "deepnote_cell_type": "markdown"
   }
  },
  {
   "cell_type": "code",
   "source": "# Problem 2d: Testing on homework files\n# READING THE FILES\n\nfile_small_a = open('am205_hw2_files/q2_small/a.txt', 'r')\ndata = []\n\ni = 0\nj = 0\nfor i, row in enumerate(file_small_a):\n    for j,number in enumerate(row):\n        if number == '0' or number == '1':\n            data.append(int(number))\n            j+=1\n        else:\n            j+=1\n    i += 1\n\nA_small = np.array(data)\nA_small = A_small.reshape(-1,14)\n\n\nfile_small_b = open('am205_hw2_files/q2_small/b.txt', 'r')\nb = []\n\ni = 0\nj = 0\nfor i, row in enumerate(file_small_b):\n    for j,number in enumerate(row):\n        if number == '0' or number == '1':\n            b.append(int(number))\n            j+=1\n        else:\n            j+=1\n    i += 1\n\nb_small = np.array(b,dtype=np.int8)\nb_small = b_small.reshape(14,1)\n",
   "metadata": {
    "tags": [],
    "cell_id": "00027-c6e2856a-21b9-45a1-b20e-4d024e18acdb",
    "deepnote_to_be_reexecuted": false,
    "source_hash": "e5093bb0",
    "execution_start": 1634053876018,
    "execution_millis": 4,
    "deepnote_cell_type": "code"
   },
   "outputs": [],
   "execution_count": null
  },
  {
   "cell_type": "markdown",
   "source": "From slide 71: I can solve for x the linear system Ax = b by using the factorization PA = LU. \n\nThe steps are to:\n\n            PA = LU\n            Ax = b. | *multiply by P on both sides\n            PAx = Pb\n            \n\n\nHere we will also have:\n\n            PAx = Pb = LUx\n\nFirst we solve for y with forward substitution in the linear system:\n\n            Ly = Pb\n\nThen we solve for x in the linear system:\n            \n             Ux = y\n\n",
   "metadata": {
    "tags": [],
    "cell_id": "00028-fede243d-a249-4fad-9185-55ffbc63efa7",
    "deepnote_cell_type": "markdown"
   }
  },
  {
   "cell_type": "code",
   "source": "## Now we need to solve\n\nP,L,U = ppsolve(A_small)\ny = fsolve(L,b_small)\nx = rsolve(U,y)\nx\n\n",
   "metadata": {
    "tags": [],
    "cell_id": "00028-b13b23a9-f843-4259-9423-22da4d7f6f01",
    "deepnote_to_be_reexecuted": false,
    "source_hash": "9837ece4",
    "execution_start": 1634053876029,
    "execution_millis": 32,
    "deepnote_cell_type": "code"
   },
   "outputs": [
    {
     "output_type": "execute_result",
     "execution_count": 20,
     "data": {
      "text/plain": "array([[1],\n       [0],\n       [1],\n       [0],\n       [1],\n       [0],\n       [1],\n       [0],\n       [1],\n       [0],\n       [1],\n       [0],\n       [1],\n       [0]], dtype=int8)"
     },
     "metadata": {}
    }
   ],
   "execution_count": null
  },
  {
   "cell_type": "markdown",
   "source": "To check if my results are right, we can use the binary multiplication code from Chris, we know from above that these should equate:\n\n            PA = LU\n\nAn dhtat also these should equate:\n\n            Ly = Pb",
   "metadata": {
    "tags": [],
    "cell_id": "00030-4ab7bd36-c8ab-409f-935c-c83c8d732687",
    "deepnote_cell_type": "markdown"
   }
  },
  {
   "cell_type": "code",
   "source": "# Test to make sure its right \nbin_mul(P, A_small) == bin_mul(L, U)\n",
   "metadata": {
    "tags": [],
    "cell_id": "00029-7fdfc0f5-c1de-4855-a80b-249c0f5e6397",
    "deepnote_to_be_reexecuted": false,
    "source_hash": "420d74b0",
    "execution_start": 1634053876045,
    "execution_millis": 56,
    "deepnote_cell_type": "code"
   },
   "outputs": [
    {
     "output_type": "execute_result",
     "execution_count": 21,
     "data": {
      "text/plain": "array([[ True,  True,  True,  True,  True,  True,  True,  True,  True,\n         True,  True,  True,  True,  True],\n       [ True,  True,  True,  True,  True,  True,  True,  True,  True,\n         True,  True,  True,  True,  True],\n       [ True,  True,  True,  True,  True,  True,  True,  True,  True,\n         True,  True,  True,  True,  True],\n       [ True,  True,  True,  True,  True,  True,  True,  True,  True,\n         True,  True,  True,  True,  True],\n       [ True,  True,  True,  True,  True,  True,  True,  True,  True,\n         True,  True,  True,  True,  True],\n       [ True,  True,  True,  True,  True,  True,  True,  True,  True,\n         True,  True,  True,  True,  True],\n       [ True,  True,  True,  True,  True,  True,  True,  True,  True,\n         True,  True,  True,  True,  True],\n       [ True,  True,  True,  True,  True,  True,  True,  True,  True,\n         True,  True,  True,  True,  True],\n       [ True,  True,  True,  True,  True,  True,  True,  True,  True,\n         True,  True,  True,  True,  True],\n       [ True,  True,  True,  True,  True,  True,  True,  True,  True,\n         True,  True,  True,  True,  True],\n       [ True,  True,  True,  True,  True,  True,  True,  True,  True,\n         True,  True,  True,  True,  True],\n       [ True,  True,  True,  True,  True,  True,  True,  True,  True,\n         True,  True,  True,  True,  True],\n       [ True,  True,  True,  True,  True,  True,  True,  True,  True,\n         True,  True,  True,  True,  True],\n       [ True,  True,  True,  True,  True,  True,  True,  True,  True,\n         True,  True,  True,  True,  True]])"
     },
     "metadata": {}
    }
   ],
   "execution_count": null
  },
  {
   "cell_type": "code",
   "source": "bin_mul(L, y) == bin_mul(P,b_small)",
   "metadata": {
    "tags": [],
    "cell_id": "00032-eabb9551-1989-452f-a558-aab6881eaa05",
    "deepnote_to_be_reexecuted": false,
    "source_hash": "147ddb8f",
    "execution_start": 1634053876142,
    "execution_millis": 9,
    "deepnote_cell_type": "code"
   },
   "outputs": [
    {
     "output_type": "execute_result",
     "execution_count": 22,
     "data": {
      "text/plain": "array([[ True],\n       [ True],\n       [ True],\n       [ True],\n       [ True],\n       [ True],\n       [ True],\n       [ True],\n       [ True],\n       [ True],\n       [ True],\n       [ True],\n       [ True],\n       [ True]])"
     },
     "metadata": {}
    }
   ],
   "execution_count": null
  },
  {
   "cell_type": "code",
   "source": "bin_mul(A_small,x) == b_small",
   "metadata": {
    "tags": [],
    "cell_id": "00033-953377b3-60fe-4a45-891a-28f01eb545f4",
    "deepnote_to_be_reexecuted": false,
    "source_hash": "6bb008d8",
    "execution_start": 1634053876143,
    "execution_millis": 8,
    "deepnote_cell_type": "code"
   },
   "outputs": [
    {
     "output_type": "execute_result",
     "execution_count": 23,
     "data": {
      "text/plain": "array([[ True],\n       [ True],\n       [ True],\n       [ True],\n       [ True],\n       [ True],\n       [ True],\n       [ True],\n       [ True],\n       [ True],\n       [ True],\n       [ True],\n       [ True],\n       [ True]])"
     },
     "metadata": {}
    }
   ],
   "execution_count": null
  },
  {
   "cell_type": "markdown",
   "source": "Now I do the same for the large files.\n\n",
   "metadata": {
    "tags": [],
    "cell_id": "00034-18ec7c52-b756-4ff6-80b1-debd11773f62",
    "deepnote_cell_type": "markdown"
   }
  },
  {
   "cell_type": "markdown",
   "source": "",
   "metadata": {
    "tags": [],
    "cell_id": "00036-6f0b1341-3c4e-45f6-b26d-65e192ff870c",
    "deepnote_cell_type": "markdown"
   }
  },
  {
   "cell_type": "code",
   "source": "# Problem 2d: Testing on homework files\nfile = open('am205_hw2_files/q2_large/a.txt', 'r')\ndata = []\n\n## opening A.txt\ni = 0\nj = 0\nfor i, row in enumerate(file):\n    for j,number in enumerate(row):\n        if number == '0' or number == '1':\n            data.append(int(number))\n            j+=1\n        else:\n            j+=1\n    i += 1\n    \nA_large = np.array(data, dtype=np.int8)\nA_large = A_large.reshape(-1,71)\n#q2_large = np.asmatrix(q2_large)\n#print(q2_large)\n\n## opening b.txt\nfile1 = open('am205_hw2_files/q2_large/b.txt', 'r')\nb = []\n\ni = 0\nj= 0\nfor i, row in enumerate(file1):\n    for j,number in enumerate(row):\n        if number == '0' or number == '1':\n            b.append(int(number))\n            j+=1\n        else:\n            j+=1\n    i += 1\nb_large = np.array(b)\nb_large = b_large.reshape(-1,1)\n#b_large = np.asmatrix(b_large)\n\n\n#fsolve(q2_small,b_small) Matrix is singular\n#rsolve(q2_small,b_small) Matrix is singular \n\nP,L,U = ppsolve(A_large)\ny = fsolve(L,bin_mul(P,b_large))\nx = rsolve(U,y)\nx\n",
   "metadata": {
    "tags": [],
    "cell_id": "00036-f39389ea-45aa-40b0-8db9-bc4566ec1f52",
    "deepnote_to_be_reexecuted": false,
    "source_hash": "4fdef9c3",
    "execution_start": 1634053876143,
    "execution_millis": 217,
    "deepnote_cell_type": "code"
   },
   "outputs": [
    {
     "output_type": "execute_result",
     "execution_count": 24,
     "data": {
      "text/plain": "array([[0],\n       [1],\n       [1],\n       [0],\n       [1],\n       [0],\n       [1],\n       [0],\n       [0],\n       [0],\n       [1],\n       [0],\n       [1],\n       [0],\n       [0],\n       [0],\n       [1],\n       [0],\n       [1],\n       [0],\n       [0],\n       [0],\n       [1],\n       [0],\n       [0],\n       [0],\n       [0],\n       [0],\n       [1],\n       [0],\n       [1],\n       [0],\n       [0],\n       [0],\n       [0],\n       [0],\n       [1],\n       [0],\n       [0],\n       [0],\n       [1],\n       [0],\n       [1],\n       [0],\n       [0],\n       [0],\n       [1],\n       [0],\n       [0],\n       [0],\n       [0],\n       [0],\n       [1],\n       [0],\n       [0],\n       [0],\n       [0],\n       [0],\n       [1],\n       [0],\n       [1],\n       [0],\n       [0],\n       [0],\n       [0],\n       [0],\n       [1],\n       [0],\n       [0],\n       [0],\n       [1]], dtype=int8)"
     },
     "metadata": {}
    }
   ],
   "execution_count": null
  },
  {
   "cell_type": "code",
   "source": "# Test to make sure its right \nbin_mul(P, A_large) == bin_mul(L, U)\n",
   "metadata": {
    "tags": [],
    "cell_id": "00037-087e3530-2e44-4a65-8d34-c05ab9e5bd7b",
    "deepnote_to_be_reexecuted": false,
    "source_hash": "cfb9808e",
    "execution_start": 1634053876406,
    "execution_millis": 620,
    "deepnote_cell_type": "code"
   },
   "outputs": [
    {
     "output_type": "execute_result",
     "execution_count": 25,
     "data": {
      "text/plain": "array([[ True,  True,  True, ...,  True,  True,  True],\n       [ True,  True,  True, ...,  True,  True,  True],\n       [ True,  True,  True, ...,  True,  True,  True],\n       ...,\n       [ True,  True,  True, ...,  True,  True,  True],\n       [ True,  True,  True, ...,  True,  True,  True],\n       [ True,  True,  True, ...,  True,  True,  True]])"
     },
     "metadata": {}
    }
   ],
   "execution_count": null
  },
  {
   "cell_type": "code",
   "source": "bin_mul(L, y) == bin_mul(P,b_large)",
   "metadata": {
    "tags": [],
    "cell_id": "00038-3c1317da-c2d6-48d9-aed0-1cf1de74fe06",
    "deepnote_to_be_reexecuted": false,
    "source_hash": "b20c07a1",
    "execution_start": 1634053877034,
    "execution_millis": 259,
    "deepnote_cell_type": "code"
   },
   "outputs": [
    {
     "output_type": "execute_result",
     "execution_count": 26,
     "data": {
      "text/plain": "array([[ True],\n       [ True],\n       [ True],\n       [ True],\n       [ True],\n       [ True],\n       [ True],\n       [ True],\n       [ True],\n       [ True],\n       [ True],\n       [ True],\n       [ True],\n       [ True],\n       [ True],\n       [ True],\n       [ True],\n       [ True],\n       [ True],\n       [ True],\n       [ True],\n       [ True],\n       [ True],\n       [ True],\n       [ True],\n       [ True],\n       [ True],\n       [ True],\n       [ True],\n       [ True],\n       [ True],\n       [ True],\n       [ True],\n       [ True],\n       [ True],\n       [ True],\n       [ True],\n       [ True],\n       [ True],\n       [ True],\n       [ True],\n       [ True],\n       [ True],\n       [ True],\n       [ True],\n       [ True],\n       [ True],\n       [ True],\n       [ True],\n       [ True],\n       [ True],\n       [ True],\n       [ True],\n       [ True],\n       [ True],\n       [ True],\n       [ True],\n       [ True],\n       [ True],\n       [ True],\n       [ True],\n       [ True],\n       [ True],\n       [ True],\n       [ True],\n       [ True],\n       [ True],\n       [ True],\n       [ True],\n       [ True],\n       [ True]])"
     },
     "metadata": {}
    }
   ],
   "execution_count": null
  },
  {
   "cell_type": "code",
   "source": "",
   "metadata": {
    "tags": [],
    "cell_id": "00039-3548363c-5725-4900-a83a-b1bbd0bce665",
    "deepnote_to_be_reexecuted": false,
    "source_hash": "b623e53d",
    "execution_start": 1634053877131,
    "execution_millis": 9,
    "deepnote_cell_type": "code"
   },
   "outputs": [],
   "execution_count": null
  },
  {
   "cell_type": "markdown",
   "source": "## Exercise 3\n\n\nFollowing the rule of the Matrix Game. If I press a button b, the button next to it and the button before it lights (if it turns to light it means it becomes 1), button +1 = 1and button -1 = 1. Also, the button 7 steps before it lights and the button 7 steps after it lights, hence button +7 = 1 and button -7 =1. \n\nIn the edge cases, on the top right corner, only the button next to it lights, button +1, and the button 7 steps after it lights, button + 7 =1. And so on for all the edge cases.",
   "metadata": {
    "tags": [],
    "cell_id": "00040-2ce209ad-54d3-4e51-a0d3-e2ef747d0c31",
    "deepnote_cell_type": "markdown"
   }
  },
  {
   "cell_type": "code",
   "source": "#Problem 3a: \nimport numpy.linalg as linalg\nimport matplotlib.pyplot as plt\n\n\n#x = np.random.randint(2, size= (49,1))\n#b = linalg.solve(A,x)\n\n\ndef solve_A(m, n):\n    A = np.zeros((m*n, m*n), dtype = np.int8)\n    \n    if m == 1 and n == 1:\n        A[0, 0] = 1\n        \n    elif m == 1:\n        for j in range(n):\n            A[j, j] = 1\n            if j == 0:\n                A[j, j+1] = 1\n            elif j == n-1:\n                A[j, j-1] = 1\n            else:\n                A[j, j+1] = 1\n                A[j, j-1] = 1\n                \n    elif n == 1:\n        for i in range(m):\n            A[i, i] = 1\n            if i == 0:\n                A[i, i+1] = 1\n            elif i == m-1:\n                A[i, i-1] = 1\n            else:\n                A[i, i+1] = 1\n                A[i, i-1] = 1\n                \n    else:\n        for i in range(m):\n            for j in range(n):\n                k = n*i + j\n\n                if i == 0 and j == 0: # top left corner\n                    A[k, k] = 1\n                    A[k, k+1] = 1\n                    A[k, k+n] = 1\n                elif i == 0 and j == n-1: # top right corner\n                    A[k, k-1] = 1\n                    A[k, k] = 1\n                    A[k, k+n] = 1\n                elif i == m-1 and j == 0: # bottom left corner\n                    A[k, k-n] = 1\n                    A[k, k] = 1\n                    A[k, k+1] = 1\n                elif i == m-1 and j == n-1: # bottom left corner\n                    A[k, k-n] = 1\n                    A[k, k] = 1\n                    A[k, k-1] = 1\n                elif i == 0: # interior of first row\n                    A[k, k-1] = 1\n                    A[k, k] = 1\n                    A[k, k+1] = 1\n                    A[k, k+n] = 1\n                elif i == m-1: # interior of last row\n                    A[k, k-1] = 1\n                    A[k, k] = 1\n                    A[k, k+1] = 1\n                    A[k, k-n] = 1\n                elif j == 0: # interior of first column\n                    A[k, k-n] = 1\n                    A[k, k] = 1\n                    A[k, k+1] = 1\n                    A[k, k+n] = 1\n                elif j == n-1: # interior of last column\n                    A[k, k-n] = 1\n                    A[k, k-1] = 1\n                    A[k, k] = 1\n                    A[k, k+n] = 1\n                else: # interior\n                    A[k, k-n] = 1\n                    A[k, k-1] = 1\n                    A[k, k] = 1\n                    A[k, k+1] = 1\n                    A[k, k+n] = 1\n    return A",
   "metadata": {
    "tags": [],
    "cell_id": "00041-4dbcc7a8-f815-4071-9fc0-2b736bc80a64",
    "deepnote_to_be_reexecuted": false,
    "source_hash": "3c70c545",
    "execution_start": 1634053877155,
    "execution_millis": 17,
    "deepnote_cell_type": "code"
   },
   "outputs": [],
   "execution_count": null
  },
  {
   "cell_type": "code",
   "source": "solve_A(7,7).shape",
   "metadata": {
    "tags": [],
    "cell_id": "00042-9ef268f3-9d03-42af-a7df-2f60e331af92",
    "deepnote_to_be_reexecuted": false,
    "source_hash": "7e5ef9a8",
    "execution_start": 1634053877174,
    "execution_millis": 134,
    "deepnote_cell_type": "code"
   },
   "outputs": [
    {
     "output_type": "execute_result",
     "execution_count": 28,
     "data": {
      "text/plain": "(49, 49)"
     },
     "metadata": {}
    }
   ],
   "execution_count": null
  },
  {
   "cell_type": "code",
   "source": "",
   "metadata": {
    "tags": [],
    "cell_id": "00043-82699bd0-a83b-4ee4-84ff-b13d8d80fc2f",
    "deepnote_to_be_reexecuted": false,
    "source_hash": "b623e53d",
    "execution_start": 1634053877215,
    "execution_millis": 1,
    "deepnote_cell_type": "code"
   },
   "outputs": [],
   "execution_count": null
  },
  {
   "cell_type": "markdown",
   "source": "## 3b ",
   "metadata": {
    "tags": [],
    "cell_id": "00044-086bf008-2371-4e63-9934-8b51345109ae",
    "deepnote_cell_type": "markdown"
   }
  },
  {
   "cell_type": "code",
   "source": "# Here we use the b vector that stems from the 0s and 1s of the boxes.\n\ndef create_b2(m,n, start):\n    b = np.zeros((m,n), dtype = np.int8)\n\n    for i in range(start,m - start):  # rows \n        for j in range(start, m - start):\n            b[i,j] = 1\n    return b\n\ndef create_b1(m,n, start):\n    b = np.zeros((m,n), dtype = np.int8)\n    \n    for i in range(m):  # rows \n        for j in range(n):\n            k = 3\n            if i == 0 or i == 6:\n                b[i,k] = 1\n            if i == 1 or i == 5:\n                b[i,k-1:k+2] = 1\n            \n            if i == 2 or i == 4:\n                b[i,k-2:k+3] = 1\n                \n            if i == 3:\n                b[i,:] = 1                         \n    return b\n\ndef box345(m,n,i,j):\n    b = np.zeros((m,n), dtype = np.int8)\n    b[i,j] = 1\n    return b\n \n# boxes\nbox1 = create_b1(7,7,1)    \nbox2 = create_b2(7,7,1) \nbox3 = box345(7,7,3,3)\nbox4 = box345(7,7,6,0)\nbox5 = box345(7,7,4,1)\nourownbox = box345(7,7,2,2)\n\n#x_box1 = x_box1.reshape(-1,7)\n#x_box2 = x_box2.reshape(-1,7)\n#x_box3 = x_box3.reshape(-1,7)\n#x_box4 = x_box4.reshape(-1,7)\n#x_box5 = x_box5.reshape(-1,7)\n#x_ourownbox = ourownbox.reshape(-1,7)\n",
   "metadata": {
    "tags": [],
    "cell_id": "00045-afcb7397-6f85-4080-b93f-6407395046f1",
    "deepnote_to_be_reexecuted": false,
    "source_hash": "4cf993e1",
    "execution_start": 1634053877216,
    "execution_millis": 50,
    "deepnote_cell_type": "code"
   },
   "outputs": [],
   "execution_count": null
  },
  {
   "cell_type": "code",
   "source": "#x_box1.shape",
   "metadata": {
    "tags": [],
    "cell_id": "00046-1eb47c5f-1b95-4600-9793-8b1e202721bf",
    "deepnote_to_be_reexecuted": false,
    "source_hash": "92277236",
    "execution_start": 1634053877267,
    "execution_millis": 0,
    "deepnote_cell_type": "code"
   },
   "outputs": [],
   "execution_count": null
  },
  {
   "cell_type": "code",
   "source": "#Problem 3b: Draw the boxes \nimport matplotlib.pyplot as plt\n\nbox_list = [box1, box2, box3, box4, box5, ourownbox]\nfig, axs = plt.subplots(1,6, figsize=(25,25))\nj = 0\nfor i, testcase in enumerate(box_list):\n    j = j+1\n    axs[i].spy(testcase)\n    axs[i].set_title(f\"box {j}\")\n    axs[i].grid(color = 'w', linestyle = '-', linewidth = 2)\n    axs[i].set_xticks(np.arange(-.5,7,1))\n    axs[i].set_yticks(np.arange(-.5,7,1))",
   "metadata": {
    "tags": [],
    "cell_id": "00046-5718eabc-289a-4fea-96e0-be5909ebcb46",
    "deepnote_to_be_reexecuted": false,
    "source_hash": "ad67f90",
    "execution_start": 1634053877268,
    "execution_millis": 1435,
    "deepnote_cell_type": "code"
   },
   "outputs": [
    {
     "data": {
      "text/plain": "<Figure size 1800x1800 with 6 Axes>",
      "image/png": "[encoded data removed]"
     },
     "metadata": {
      "needs_background": "light",
      "image/png": {
       "width": 1448,
       "height": 252
      }
     },
     "output_type": "display_data"
    }
   ],
   "execution_count": null
  },
  {
   "cell_type": "code",
   "source": "# We need this to be a vector, hence here I reshape the boxes\nbox1 = box1.reshape(-1,1)\nbox2 = box2.reshape(-1,1)\nbox3 = box3.reshape(-1,1)\nbox4 = box4.reshape(-1,1)\nbox5 = box5.reshape(-1,1)\nourownbox = ourownbox.reshape(-1,1)\n\nbox1.shape\n",
   "metadata": {
    "tags": [],
    "cell_id": "00046-a888875a-2a3f-4080-aaa1-a1d1040a86ee",
    "deepnote_to_be_reexecuted": false,
    "source_hash": "1e25954f",
    "execution_start": 1634053878677,
    "execution_millis": 26,
    "deepnote_cell_type": "code"
   },
   "outputs": [
    {
     "output_type": "execute_result",
     "execution_count": 32,
     "data": {
      "text/plain": "(49, 1)"
     },
     "metadata": {}
    }
   ],
   "execution_count": null
  },
  {
   "cell_type": "code",
   "source": "# HERE I BACKSOLVE FOR X TO FIND THE PRESSES, X IS THE VECTOR OF THE PRESSES\n# Problem 3b continued Solving \nA = solve_A(7,7)\n\nP1,L1,U1 = ppsolve(A)\n\nP1b = bin_mul(P1, box1)\ny_box1 = fsolve(L1,P1b)\nx_box1 = rsolve(U1,y_box1)\n\nP2,L2,U2 = ppsolve(A)\nP2b = bin_mul(P2, box2)\ny_box2 = fsolve(L2,P2b)\nx_box2 = rsolve(U2,y_box2)\n\nP3,L3,U3 = ppsolve(A)\nP3b = bin_mul(P3, box3)\ny_box3 = fsolve(L3,P3b)\nx_box3 = rsolve(U3,y_box3)\n\nP4,L4,U4 = ppsolve(A)\nP4b = bin_mul(P4, box4)\ny_box4 = fsolve(L4, P4b)\nx_box4 = rsolve(U4, y_box4)\n\nP5,L5,U5 = ppsolve(A)\nP5b = bin_mul(P5, box5)\ny_box5 = fsolve(L5, P5b)\nx_box5 = rsolve(U5, y_box5)\n\nP6,L6,U6 = ppsolve(A)\nP6b = bin_mul(P6, ourownbox)\ny_ourownbox = fsolve(L6,P6b)\nx_ourownbox = rsolve(U6,y_ourownbox)\n\n",
   "metadata": {
    "tags": [],
    "cell_id": "00047-8097ad39-3671-4c0a-b8bf-999bf838a85b",
    "deepnote_to_be_reexecuted": false,
    "source_hash": "421f8d9e",
    "execution_start": 1634053878696,
    "execution_millis": 304,
    "deepnote_cell_type": "code"
   },
   "outputs": [],
   "execution_count": null
  },
  {
   "cell_type": "code",
   "source": "x_box1.reshape(-1, 7)",
   "metadata": {
    "tags": [],
    "cell_id": "00050-7e74678d-2b78-4fd1-b4a9-1f41fc94e6cd",
    "deepnote_to_be_reexecuted": false,
    "source_hash": "9bafa10f",
    "execution_start": 1634053879001,
    "execution_millis": 57,
    "deepnote_cell_type": "code"
   },
   "outputs": [
    {
     "output_type": "execute_result",
     "execution_count": 34,
     "data": {
      "text/plain": "array([[0, 1, 1, 1, 1, 1, 0],\n       [1, 0, 1, 0, 1, 0, 1],\n       [1, 1, 1, 0, 1, 1, 1],\n       [1, 0, 0, 1, 0, 0, 1],\n       [1, 1, 1, 0, 1, 1, 1],\n       [1, 0, 1, 0, 1, 0, 1],\n       [0, 1, 1, 1, 1, 1, 0]], dtype=int8)"
     },
     "metadata": {}
    }
   ],
   "execution_count": null
  },
  {
   "cell_type": "code",
   "source": "x_box1 = x_box1.reshape(-1,7)\nx_box2 = x_box2.reshape(-1,7)\nx_box3 = x_box3.reshape(-1,7)\nx_box4 = x_box4.reshape(-1,7)\nx_box5 = x_box5.reshape(-1,7)\nx_ourownbox = x_ourownbox.reshape(-1,7)\n\n\npress_list = [x_box1, x_box2, x_box3, x_box4, x_box5, x_ourownbox]\nfig, axs = plt.subplots(1,6, figsize=(25,25))\n\nprint(\"The pressed buttons have been:\")\n\nfor i, testcase in enumerate(press_list):\n    axs[i].spy(testcase)\n    axs[i].set_title(f\"box{i+1}\")\n    axs[i].grid(color = 'w', linestyle = '-', linewidth = 2)\n    axs[i].set_xticks(np.arange(-.5,7,1))\n    axs[i].set_yticks(np.arange(-.5,7,1))",
   "metadata": {
    "tags": [],
    "cell_id": "00048-f8ac5b8f-b6ac-4113-bc6b-121ff437bf2a",
    "deepnote_to_be_reexecuted": false,
    "source_hash": "9215c4bc",
    "execution_start": 1634053879046,
    "execution_millis": 1312,
    "deepnote_cell_type": "code"
   },
   "outputs": [
    {
     "name": "stdout",
     "text": "The pressed buttons have been:\n",
     "output_type": "stream"
    },
    {
     "data": {
      "text/plain": "<Figure size 1800x1800 with 6 Axes>",
      "image/png": "[encoded data removed]"
     },
     "metadata": {
      "needs_background": "light",
      "image/png": {
       "width": 1448,
       "height": 252
      }
     },
     "output_type": "display_data"
    }
   ],
   "execution_count": null
  },
  {
   "cell_type": "markdown",
   "source": "## 3c \n\nIn the exercise 3c, we are told from the prompt that the given 49 x 49 matrix A ( whose game grid is 7x7) is non-singular, i.e. it has full rank. Meaning that the 49 columns of A are linearly independent from each other. \n\nAdditionally, in this particular game, it means that every combination of lights can be created by pressing buttons.\n\nThis is not always the case for any squared matrix mn x mn A (with game grid m x n). In the exercise we are told to try  for m in range 1 to 10 and n in range from 1 to 10.",
   "metadata": {
    "tags": [],
    "cell_id": "00050-900b28ee-37c8-4a61-9619-dd4276eb4d3d",
    "deepnote_cell_type": "markdown"
   }
  },
  {
   "cell_type": "markdown",
   "source": "### First code to sanity check. \n\nThe diagonal of U from the LU factorization of A should have all 1 values.\n\nA in the case of 49x49 has no 0 in the diagonal of U. Hence A has full rank and is non-singular. Let's see if this holds in my code:",
   "metadata": {
    "tags": [],
    "cell_id": "00051-f0213493-4465-4c37-8aa9-bf4930a1c19e",
    "deepnote_cell_type": "markdown"
   }
  },
  {
   "cell_type": "code",
   "source": "A = solve_A(7,7)\nP,L,U = ppsolve(A)\nd = np.diagonal(U)\nprint(d)\n\n#How many times we have 1\nindependent_columns = np.count_nonzero( d == 1)\nprint(\"This matrix has\", independent_columns, \"independent columns\" )\nprint(\"\")\n\n#How many times we have 0\ndependent_columns = np.count_nonzero( d == 0)\nprint(\"As consequence this matrix has\", dependent_columns, \"linearly dependent columns\")\nprint(\"\")\n\nrank = 7*7 - dependent_columns\nprint(\"The rank of the 49x49 is full because we know if from exercise, so the rank sould be m*n = 49 (where m=7 and n=7), and it is:\", rank)\nnull_space = 7*7 - rank\nprint(\"\")\nprint(\"The nullspace is this\", null_space)\n",
   "metadata": {
    "tags": [],
    "cell_id": "00053-1cfa7646-6f4e-42d5-a2c8-0a81ea98335f",
    "deepnote_to_be_reexecuted": false,
    "source_hash": "549c05de",
    "execution_start": 1634053880360,
    "execution_millis": 44,
    "deepnote_cell_type": "code"
   },
   "outputs": [
    {
     "name": "stdout",
     "text": "[1 1 1 1 1 1 1 1 1 1 1 1 1 1 1 1 1 1 1 1 1 1 1 1 1 1 1 1 1 1 1 1 1 1 1 1 1\n 1 1 1 1 1 1 1 1 1 1 1 1]\nThis matrix has 49 independent columns\n\nAs consequence this matrix has 0 linearly dependent columns\n\nThe rank of the 49x49 is full because we know if from exercise, so the rank sould be m*n = 49 (where m=7 and n=7), and it is: 49\n\nThe nullspace is this 0\n",
     "output_type": "stream"
    }
   ],
   "execution_count": null
  },
  {
   "cell_type": "markdown",
   "source": "Given that the code above is correct, now I go ahead and code for the other cases.",
   "metadata": {
    "tags": [],
    "cell_id": "00056-c8c2e3b3-6923-4e2a-8dff-3fe1fe216c1e",
    "deepnote_cell_type": "markdown"
   }
  },
  {
   "cell_type": "code",
   "source": "\nf = []\n\nfor m in range(1,11):\n    for n in range(1,11):\n        A = solve_A(m,n)\n        P,L,U = ppsolve(A)\n        d = np.diagonal(U)\n \n        #How many times we have 1\n        independent_columns = np.count_nonzero( d == 1)\n        #How many times we have 0\n        dependent_columns = np.count_nonzero( d == 0)\n        #How many independent elements\n        number_of_columns = n*m\n        rank = number_of_columns - dependent_columns \n        \n        # We know that the rank is the number of linearly independent columns.\n        # If there are dependent columns, the rank will me n - number of linearly dependent columns.\n        # rank = independent_elements\n        inputs_f = m*n - rank\n        \n        f.append(inputs_f)\n        \nf_array = np.asarray(f)\nf_matrix = f_array.reshape(10,10)\nprint(f_matrix)\nplt.imshow(f_matrix) #, cmap = 'YlOrRd')\nplt.colorbar()\nplt.show()",
   "metadata": {
    "tags": [],
    "cell_id": "00053-7df819bc-9952-4f0a-93bf-7beebb447498",
    "deepnote_to_be_reexecuted": false,
    "source_hash": "7d0fe56f",
    "execution_start": 1634053880412,
    "execution_millis": 2779,
    "deepnote_cell_type": "code"
   },
   "outputs": [
    {
     "name": "stdout",
     "text": "[[0 1 0 0 1 0 0 1 0 0]\n [1 0 2 0 1 0 2 0 1 0]\n [0 2 0 0 3 0 0 2 0 0]\n [0 0 0 4 0 0 0 0 4 0]\n [1 1 3 0 2 0 4 1 1 0]\n [0 0 0 0 0 0 0 6 0 0]\n [0 2 0 0 4 0 0 2 0 0]\n [1 0 2 0 1 6 2 0 1 0]\n [0 1 0 4 1 0 0 1 8 0]\n [0 0 0 0 0 0 0 0 0 0]]\n",
     "output_type": "stream"
    },
    {
     "data": {
      "text/plain": "<Figure size 432x288 with 2 Axes>",
      "image/png": "[encoded data removed]"
     },
     "metadata": {
      "needs_background": "light",
      "image/png": {
       "width": 286,
       "height": 252
      }
     },
     "output_type": "display_data"
    }
   ],
   "execution_count": null
  },
  {
   "cell_type": "code",
   "source": " \nA = solve_A(9,9)\n\nP,L,U = ppsolve(A)\n\nU\n\n#find diagonal of U\nd = np.diagonal(U)\nd\n\n# How many times we have 1, i.e. \n# linearly independent columns\nnp.count_nonzero( d == 1)\n\n#How many times we have 0\n# i.e. linearly dependent columns\nnullspaces = np.count_nonzero( d == 0)\nnullspaces",
   "metadata": {
    "tags": [],
    "cell_id": "00050-b4b3530d-03b2-4e63-adea-29a80aaf3a34",
    "deepnote_to_be_reexecuted": false,
    "source_hash": "56acbdca",
    "execution_start": 1634053883197,
    "execution_millis": 144,
    "deepnote_cell_type": "code"
   },
   "outputs": [
    {
     "output_type": "execute_result",
     "execution_count": 38,
     "data": {
      "text/plain": "8"
     },
     "metadata": {}
    }
   ],
   "execution_count": null
  },
  {
   "cell_type": "code",
   "source": "n_list = np.linspace(1, 10, 10, dtype = np.int8)\nm_list = np.linspace(1, 10, 10, dtype = np.int8)\n\n\n\nfor m in m_list:\n    for n in n_list:\n        A = solve_A(m,n)\n        P,L,U = ppsolve(A)\n        #print(U)\n\n        #find diagonal of U\n        d = np.diagonal(U)\n        #print(d)\n\n        #How many times we have 1\n        independent_columns = np.count_nonzero( d == 1)\n        #How many times we have 0\n        dependent_columns = np.count_nonzero( d == 0)\n        print(\"----------------------------\")\n        print(\"Matrix \", m*n,\"x\",m*n, \". Where m =\", m, \"and n=\", n)\n        print(\"For the matrix with dimension: \", m*n, \"x\", m*n, \" the matrix has\", dependent_columns, \"linearly dependent columns\")\n\n        print(\" \")\n        # We know that the rank is the number of linearly independent columns.\n        # If there are dependent columns, the rank will me n - number of linearly dependent columns.\n        rank = m*n - dependent_columns\n        print(\"Given that the rank is the number of linearly independent columns,\")\n        print(\"it means thath  the rank of A is number of columns - the number of linearly dependent columns, \")\n        print(\"which is : \", rank )\n        print(\" \")\n        null_space = m*n - rank\n        print(\"For the matrix with dimension: \", m*n, \"x\", m*n, \"  the f(m,n), i.e. nullspaces, is\", null_space)\n        print(\" \")\n        print(\" \")\n        print(\" \")\n\n\n\n\n\n",
   "metadata": {
    "tags": [],
    "cell_id": "00052-8d1dd5c1-1ecf-4900-94c5-f58ae506ceb6",
    "deepnote_to_be_reexecuted": false,
    "source_hash": "9c980ab7",
    "execution_start": 1634053883347,
    "execution_millis": 3068,
    "deepnote_cell_type": "code"
   },
   "outputs": [
    {
     "name": "stdout",
     "text": " \n \n \n----------------------------\nMatrix  16 x 16 . Where m = 2 and n= 8\nFor the matrix with dimension:  16 x 16  the matrix has 0 linearly dependent columns\n \nGiven that the rank is the number of linearly independent columns,\nit means thath  the rank of A is number of columns - the number of linearly dependent columns, \nwhich is :  16\n \nFor the matrix with dimension:  16 x 16   the f(m,n), i.e. nullspaces, is 0\n \n \n \n----------------------------\nMatrix  18 x 18 . Where m = 2 and n= 9\nFor the matrix with dimension:  18 x 18  the matrix has 1 linearly dependent columns\n \nGiven that the rank is the number of linearly independent columns,\nit means thath  the rank of A is number of columns - the number of linearly dependent columns, \nwhich is :  17\n \nFor the matrix with dimension:  18 x 18   the f(m,n), i.e. nullspaces, is 1\n \n \n \n----------------------------\nMatrix  20 x 20 . Where m = 2 and n= 10\nFor the matrix with dimension:  20 x 20  the matrix has 0 linearly dependent columns\n \nGiven that the rank is the number of linearly independent columns,\nit means thath  the rank of A is number of columns - the number of linearly dependent columns, \nwhich is :  20\n \nFor the matrix with dimension:  20 x 20   the f(m,n), i.e. nullspaces, is 0\n \n \n \n----------------------------\nMatrix  3 x 3 . Where m = 3 and n= 1\nFor the matrix with dimension:  3 x 3  the matrix has 0 linearly dependent columns\n \nGiven that the rank is the number of linearly independent columns,\nit means thath  the rank of A is number of columns - the number of linearly dependent columns, \nwhich is :  3\n \nFor the matrix with dimension:  3 x 3   the f(m,n), i.e. nullspaces, is 0\n \n \n \n----------------------------\nMatrix  6 x 6 . Where m = 3 and n= 2\nFor the matrix with dimension:  6 x 6  the matrix has 2 linearly dependent columns\n \nGiven that the rank is the number of linearly independent columns,\nit means thath  the rank of A is number of columns - the number of linearly dependent columns, \nwhich is :  4\n \nFor the matrix with dimension:  6 x 6   the f(m,n), i.e. nullspaces, is 2\n \n \n \n----------------------------\nMatrix  9 x 9 . Where m = 3 and n= 3\nFor the matrix with dimension:  9 x 9  the matrix has 0 linearly dependent columns\n \nGiven that the rank is the number of linearly independent columns,\nit means thath  the rank of A is number of columns - the number of linearly dependent columns, \nwhich is :  9\n \nFor the matrix with dimension:  9 x 9   the f(m,n), i.e. nullspaces, is 0\n \n \n \n----------------------------\nMatrix  12 x 12 . Where m = 3 and n= 4\nFor the matrix with dimension:  12 x 12  the matrix has 0 linearly dependent columns\n \nGiven that the rank is the number of linearly independent columns,\nit means thath  the rank of A is number of columns - the number of linearly dependent columns, \nwhich is :  12\n \nFor the matrix with dimension:  12 x 12   the f(m,n), i.e. nullspaces, is 0\n \n \n \n----------------------------\nMatrix  15 x 15 . Where m = 3 and n= 5\nFor the matrix with dimension:  15 x 15  the matrix has 3 linearly dependent columns\n \nGiven that the rank is the number of linearly independent columns,\nit means thath  the rank of A is number of columns - the number of linearly dependent columns, \nwhich is :  12\n \nFor the matrix with dimension:  15 x 15   the f(m,n), i.e. nullspaces, is 3\n \n \n \n----------------------------\nMatrix  18 x 18 . Where m = 3 and n= 6\nFor the matrix with dimension:  18 x 18  the matrix has 0 linearly dependent columns\n \nGiven that the rank is the number of linearly independent columns,\nit means thath  the rank of A is number of columns - the number of linearly dependent columns, \nwhich is :  18\n \nFor the matrix with dimension:  18 x 18   the f(m,n), i.e. nullspaces, is 0\n \n \n \n----------------------------\nMatrix  21 x 21 . Where m = 3 and n= 7\nFor the matrix with dimension:  21 x 21  the matrix has 0 linearly dependent columns\n \nGiven that the rank is the number of linearly independent columns,\nit means thath  the rank of A is number of columns - the number of linearly dependent columns, \nwhich is :  21\n \nFor the matrix with dimension:  21 x 21   the f(m,n), i.e. nullspaces, is 0\n \n \n \n----------------------------\nMatrix  24 x 24 . Where m = 3 and n= 8\nFor the matrix with dimension:  24 x 24  the matrix has 2 linearly dependent columns\n \nGiven that the rank is the number of linearly independent columns,\nit means thath  the rank of A is number of columns - the number of linearly dependent columns, \nwhich is :  22\n \nFor the matrix with dimension:  24 x 24   the f(m,n), i.e. nullspaces, is 2\n \n \n \n----------------------------\nMatrix  27 x 27 . Where m = 3 and n= 9\nFor the matrix with dimension:  27 x 27  the matrix has 0 linearly dependent columns\n \nGiven that the rank is the number of linearly independent columns,\nit means thath  the rank of A is number of columns - the number of linearly dependent columns, \nwhich is :  27\n \nFor the matrix with dimension:  27 x 27   the f(m,n), i.e. nullspaces, is 0\n \n \n \n----------------------------\nMatrix  30 x 30 . Where m = 3 and n= 10\nFor the matrix with dimension:  30 x 30  the matrix has 0 linearly dependent columns\n \nGiven that the rank is the number of linearly independent columns,\nit means thath  the rank of A is number of columns - the number of linearly dependent columns, \nwhich is :  30\n \nFor the matrix with dimension:  30 x 30   the f(m,n), i.e. nullspaces, is 0\n \n \n \n----------------------------\nMatrix  4 x 4 . Where m = 4 and n= 1\nFor the matrix with dimension:  4 x 4  the matrix has 0 linearly dependent columns\n \nGiven that the rank is the number of linearly independent columns,\nit means thath  the rank of A is number of columns - the number of linearly dependent columns, \nwhich is :  4\n \nFor the matrix with dimension:  4 x 4   the f(m,n), i.e. nullspaces, is 0\n \n \n \n----------------------------\nMatrix  8 x 8 . Where m = 4 and n= 2\nFor the matrix with dimension:  8 x 8  the matrix has 0 linearly dependent columns\n \nGiven that the rank is the number of linearly independent columns,\nit means thath  the rank of A is number of columns - the number of linearly dependent columns, \nwhich is :  8\n \nFor the matrix with dimension:  8 x 8   the f(m,n), i.e. nullspaces, is 0\n \n \n \n----------------------------\nMatrix  12 x 12 . Where m = 4 and n= 3\nFor the matrix with dimension:  12 x 12  the matrix has 0 linearly dependent columns\n \nGiven that the rank is the number of linearly independent columns,\nit means thath  the rank of A is number of columns - the number of linearly dependent columns, \nwhich is :  12\n \nFor the matrix with dimension:  12 x 12   the f(m,n), i.e. nullspaces, is 0\n \n \n \n----------------------------\nMatrix  16 x 16 . Where m = 4 and n= 4\nFor the matrix with dimension:  16 x 16  the matrix has 4 linearly dependent columns\n \nGiven that the rank is the number of linearly independent columns,\nit means thath  the rank of A is number of columns - the number of linearly dependent columns, \nwhich is :  12\n \nFor the matrix with dimension:  16 x 16   the f(m,n), i.e. nullspaces, is 4\n \n \n \n----------------------------\nMatrix  20 x 20 . Where m = 4 and n= 5\nFor the matrix with dimension:  20 x 20  the matrix has 0 linearly dependent columns\n \nGiven that the rank is the number of linearly independent columns,\nit means thath  the rank of A is number of columns - the number of linearly dependent columns, \nwhich is :  20\n \nFor the matrix with dimension:  20 x 20   the f(m,n), i.e. nullspaces, is 0\n \n \n \n----------------------------\nMatrix  24 x 24 . Where m = 4 and n= 6\nFor the matrix with dimension:  24 x 24  the matrix has 0 linearly dependent columns\n \nGiven that the rank is the number of linearly independent columns,\nit means thath  the rank of A is number of columns - the number of linearly dependent columns, \nwhich is :  24\n \nFor the matrix with dimension:  24 x 24   the f(m,n), i.e. nullspaces, is 0\n \n \n \n----------------------------\nMatrix  28 x 28 . Where m = 4 and n= 7\nFor the matrix with dimension:  28 x 28  the matrix has 0 linearly dependent columns\n \nGiven that the rank is the number of linearly independent columns,\nit means thath  the rank of A is number of columns - the number of linearly dependent columns, \nwhich is :  28\n \nFor the matrix with dimension:  28 x 28   the f(m,n), i.e. nullspaces, is 0\n \n \n \n----------------------------\nMatrix  32 x 32 . Where m = 4 and n= 8\nFor the matrix with dimension:  32 x 32  the matrix has 0 linearly dependent columns\n \nGiven that the rank is the number of linearly independent columns,\nit means thath  the rank of A is number of columns - the number of linearly dependent columns, \nwhich is :  32\n \nFor the matrix with dimension:  32 x 32   the f(m,n), i.e. nullspaces, is 0\n \n \n \n----------------------------\nMatrix  36 x 36 . Where m = 4 and n= 9\nFor the matrix with dimension:  36 x 36  the matrix has 4 linearly dependent columns\n \nGiven that the rank is the number of linearly independent columns,\nit means thath  the rank of A is number of columns - the number of linearly dependent columns, \nwhich is :  32\n \nFor the matrix with dimension:  36 x 36   the f(m,n), i.e. nullspaces, is 4\n \n \n \n----------------------------\nMatrix  40 x 40 . Where m = 4 and n= 10\nFor the matrix with dimension:  40 x 40  the matrix has 0 linearly dependent columns\n \nGiven that the rank is the number of linearly independent columns,\nit means thath  the rank of A is number of columns - the number of linearly dependent columns, \nwhich is :  40\n \nFor the matrix with dimension:  40 x 40   the f(m,n), i.e. nullspaces, is 0\n \n \n \n----------------------------\nMatrix  5 x 5 . Where m = 5 and n= 1\nFor the matrix with dimension:  5 x 5  the matrix has 1 linearly dependent columns\n \nGiven that the rank is the number of linearly independent columns,\nit means thath  the rank of A is number of columns - the number of linearly dependent columns, \nwhich is :  4\n \nFor the matrix with dimension:  5 x 5   the f(m,n), i.e. nullspaces, is 1\n \n \n \n----------------------------\nMatrix  10 x 10 . Where m = 5 and n= 2\nFor the matrix with dimension:  10 x 10  the matrix has 1 linearly dependent columns\n \nGiven that the rank is the number of linearly independent columns,\nit means thath  the rank of A is number of columns - the number of linearly dependent columns, \nwhich is :  9\n \nFor the matrix with dimension:  10 x 10   the f(m,n), i.e. nullspaces, is 1\n \n \n \n----------------------------\nMatrix  15 x 15 . Where m = 5 and n= 3\nFor the matrix with dimension:  15 x 15  the matrix has 3 linearly dependent columns\n \nGiven that the rank is the number of linearly independent columns,\nit means thath  the rank of A is number of columns - the number of linearly dependent columns, \nwhich is :  12\n \nFor the matrix with dimension:  15 x 15   the f(m,n), i.e. nullspaces, is 3\n \n \n \n----------------------------\nMatrix  20 x 20 . Where m = 5 and n= 4\nFor the matrix with dimension:  20 x 20  the matrix has 0 linearly dependent columns\n \nGiven that the rank is the number of linearly independent columns,\nit means thath  the rank of A is number of columns - the number of linearly dependent columns, \nwhich is :  20\n \nFor the matrix with dimension:  20 x 20   the f(m,n), i.e. nullspaces, is 0\n \n \n \n----------------------------\nMatrix  25 x 25 . Where m = 5 and n= 5\nFor the matrix with dimension:  25 x 25  the matrix has 2 linearly dependent columns\n \nGiven that the rank is the number of linearly independent columns,\nit means thath  the rank of A is number of columns - the number of linearly dependent columns, \nwhich is :  23\n \nFor the matrix with dimension:  25 x 25   the f(m,n), i.e. nullspaces, is 2\n \n \n \n----------------------------\nMatrix  30 x 30 . Where m = 5 and n= 6\nFor the matrix with dimension:  30 x 30  the matrix has 0 linearly dependent columns\n \nGiven that the rank is the number of linearly independent columns,\nit means thath  the rank of A is number of columns - the number of linearly dependent columns, \nwhich is :  30\n \nFor the matrix with dimension:  30 x 30   the f(m,n), i.e. nullspaces, is 0\n \n \n \n----------------------------\nMatrix  35 x 35 . Where m = 5 and n= 7\nFor the matrix with dimension:  35 x 35  the matrix has 4 linearly dependent columns\n \nGiven that the rank is the number of linearly independent columns,\nit means thath  the rank of A is number of columns - the number of linearly dependent columns, \nwhich is :  31\n \nFor the matrix with dimension:  35 x 35   the f(m,n), i.e. nullspaces, is 4\n \n \n \n----------------------------\nMatrix  40 x 40 . Where m = 5 and n= 8\nFor the matrix with dimension:  40 x 40  the matrix has 1 linearly dependent columns\n \nGiven that the rank is the number of linearly independent columns,\nit means thath  the rank of A is number of columns - the number of linearly dependent columns, \nwhich is :  39\n \nFor the matrix with dimension:  40 x 40   the f(m,n), i.e. nullspaces, is 1\n \n \n \n----------------------------\nMatrix  45 x 45 . Where m = 5 and n= 9\nFor the matrix with dimension:  45 x 45  the matrix has 1 linearly dependent columns\n \nGiven that the rank is the number of linearly independent columns,\nit means thath  the rank of A is number of columns - the number of linearly dependent columns, \nwhich is :  44\n \nFor the matrix with dimension:  45 x 45   the f(m,n), i.e. nullspaces, is 1\n \n \n \n----------------------------\nMatrix  50 x 50 . Where m = 5 and n= 10\nFor the matrix with dimension:  50 x 50  the matrix has 0 linearly dependent columns\n \nGiven that the rank is the number of linearly independent columns,\nit means thath  the rank of A is number of columns - the number of linearly dependent columns, \nwhich is :  50\n \nFor the matrix with dimension:  50 x 50   the f(m,n), i.e. nullspaces, is 0\n \n \n \n----------------------------\nMatrix  6 x 6 . Where m = 6 and n= 1\nFor the matrix with dimension:  6 x 6  the matrix has 0 linearly dependent columns\n \nGiven that the rank is the number of linearly independent columns,\nit means thath  the rank of A is number of columns - the number of linearly dependent columns, \nwhich is :  6\n \nFor the matrix with dimension:  6 x 6   the f(m,n), i.e. nullspaces, is 0\n \n \n \n----------------------------\nMatrix  12 x 12 . Where m = 6 and n= 2\nFor the matrix with dimension:  12 x 12  the matrix has 0 linearly dependent columns\n \nGiven that the rank is the number of linearly independent columns,\nit means thath  the rank of A is number of columns - the number of linearly dependent columns, \nwhich is :  12\n \nFor the matrix with dimension:  12 x 12   the f(m,n), i.e. nullspaces, is 0\n \n \n \n----------------------------\nMatrix  18 x 18 . Where m = 6 and n= 3\nFor the matrix with dimension:  18 x 18  the matrix has 0 linearly dependent columns\n \nGiven that the rank is the number of linearly independent columns,\nit means thath  the rank of A is number of columns - the number of linearly dependent columns, \nwhich is :  18\n \nFor the matrix with dimension:  18 x 18   the f(m,n), i.e. nullspaces, is 0\n \n \n \n----------------------------\nMatrix  24 x 24 . Where m = 6 and n= 4\nFor the matrix with dimension:  24 x 24  the matrix has 0 linearly dependent columns\n \nGiven that the rank is the number of linearly independent columns,\nit means thath  the rank of A is number of columns - the number of linearly dependent columns, \nwhich is :  24\n \nFor the matrix with dimension:  24 x 24   the f(m,n), i.e. nullspaces, is 0\n \n \n \n----------------------------\nMatrix  30 x 30 . Where m = 6 and n= 5\nFor the matrix with dimension:  30 x 30  the matrix has 0 linearly dependent columns\n \nGiven that the rank is the number of linearly independent columns,\nit means thath  the rank of A is number of columns - the number of linearly dependent columns, \nwhich is :  30\n \nFor the matrix with dimension:  30 x 30   the f(m,n), i.e. nullspaces, is 0\n \n \n \n----------------------------\nMatrix  36 x 36 . Where m = 6 and n= 6\nFor the matrix with dimension:  36 x 36  the matrix has 0 linearly dependent columns\n \nGiven that the rank is the number of linearly independent columns,\nit means thath  the rank of A is number of columns - the number of linearly dependent columns, \nwhich is :  36\n \nFor the matrix with dimension:  36 x 36   the f(m,n), i.e. nullspaces, is 0\n \n \n \n----------------------------\nMatrix  42 x 42 . Where m = 6 and n= 7\nFor the matrix with dimension:  42 x 42  the matrix has 0 linearly dependent columns\n \nGiven that the rank is the number of linearly independent columns,\nit means thath  the rank of A is number of columns - the number of linearly dependent columns, \nwhich is :  42\n \nFor the matrix with dimension:  42 x 42   the f(m,n), i.e. nullspaces, is 0\n \n \n \n----------------------------\nMatrix  48 x 48 . Where m = 6 and n= 8\nFor the matrix with dimension:  48 x 48  the matrix has 6 linearly dependent columns\n \nGiven that the rank is the number of linearly independent columns,\nit means thath  the rank of A is number of columns - the number of linearly dependent columns, \nwhich is :  42\n \nFor the matrix with dimension:  48 x 48   the f(m,n), i.e. nullspaces, is 6\n \n \n \n----------------------------\nMatrix  54 x 54 . Where m = 6 and n= 9\nFor the matrix with dimension:  54 x 54  the matrix has 0 linearly dependent columns\n \nGiven that the rank is the number of linearly independent columns,\nit means thath  the rank of A is number of columns - the number of linearly dependent columns, \nwhich is :  54\n \nFor the matrix with dimension:  54 x 54   the f(m,n), i.e. nullspaces, is 0\n \n \n \n----------------------------\nMatrix  60 x 60 . Where m = 6 and n= 10\nFor the matrix with dimension:  60 x 60  the matrix has 0 linearly dependent columns\n \nGiven that the rank is the number of linearly independent columns,\nit means thath  the rank of A is number of columns - the number of linearly dependent columns, \nwhich is :  60\n \nFor the matrix with dimension:  60 x 60   the f(m,n), i.e. nullspaces, is 0\n \n \n \n----------------------------\nMatrix  7 x 7 . Where m = 7 and n= 1\nFor the matrix with dimension:  7 x 7  the matrix has 0 linearly dependent columns\n \nGiven that the rank is the number of linearly independent columns,\nit means thath  the rank of A is number of columns - the number of linearly dependent columns, \nwhich is :  7\n \nFor the matrix with dimension:  7 x 7   the f(m,n), i.e. nullspaces, is 0\n \n \n \n----------------------------\nMatrix  14 x 14 . Where m = 7 and n= 2\nFor the matrix with dimension:  14 x 14  the matrix has 2 linearly dependent columns\n \nGiven that the rank is the number of linearly independent columns,\nit means thath  the rank of A is number of columns - the number of linearly dependent columns, \nwhich is :  12\n \nFor the matrix with dimension:  14 x 14   the f(m,n), i.e. nullspaces, is 2\n \n \n \n----------------------------\nMatrix  21 x 21 . Where m = 7 and n= 3\nFor the matrix with dimension:  21 x 21  the matrix has 0 linearly dependent columns\n \nGiven that the rank is the number of linearly independent columns,\nit means thath  the rank of A is number of columns - the number of linearly dependent columns, \nwhich is :  21\n \nFor the matrix with dimension:  21 x 21   the f(m,n), i.e. nullspaces, is 0\n \n \n \n----------------------------\nMatrix  28 x 28 . Where m = 7 and n= 4\nFor the matrix with dimension:  28 x 28  the matrix has 0 linearly dependent columns\n \nGiven that the rank is the number of linearly independent columns,\nit means thath  the rank of A is number of columns - the number of linearly dependent columns, \nwhich is :  28\n \nFor the matrix with dimension:  28 x 28   the f(m,n), i.e. nullspaces, is 0\n \n \n \n----------------------------\nMatrix  35 x 35 . Where m = 7 and n= 5\nFor the matrix with dimension:  35 x 35  the matrix has 4 linearly dependent columns\n \nGiven that the rank is the number of linearly independent columns,\nit means thath  the rank of A is number of columns - the number of linearly dependent columns, \nwhich is :  31\n \nFor the matrix with dimension:  35 x 35   the f(m,n), i.e. nullspaces, is 4\n \n \n \n----------------------------\nMatrix  42 x 42 . Where m = 7 and n= 6\nFor the matrix with dimension:  42 x 42  the matrix has 0 linearly dependent columns\n \nGiven that the rank is the number of linearly independent columns,\nit means thath  the rank of A is number of columns - the number of linearly dependent columns, \nwhich is :  42\n \nFor the matrix with dimension:  42 x 42   the f(m,n), i.e. nullspaces, is 0\n \n \n \n----------------------------\nMatrix  49 x 49 . Where m = 7 and n= 7\nFor the matrix with dimension:  49 x 49  the matrix has 0 linearly dependent columns\n \nGiven that the rank is the number of linearly independent columns,\nit means thath  the rank of A is number of columns - the number of linearly dependent columns, \nwhich is :  49\n \nFor the matrix with dimension:  49 x 49   the f(m,n), i.e. nullspaces, is 0\n \n \n \n----------------------------\nMatrix  56 x 56 . Where m = 7 and n= 8\nFor the matrix with dimension:  56 x 56  the matrix has 2 linearly dependent columns\n \nGiven that the rank is the number of linearly independent columns,\nit means thath  the rank of A is number of columns - the number of linearly dependent columns, \nwhich is :  54\n \nFor the matrix with dimension:  56 x 56   the f(m,n), i.e. nullspaces, is 2\n \n \n \n----------------------------\nMatrix  63 x 63 . Where m = 7 and n= 9\nFor the matrix with dimension:  63 x 63  the matrix has 0 linearly dependent columns\n \nGiven that the rank is the number of linearly independent columns,\nit means thath  the rank of A is number of columns - the number of linearly dependent columns, \nwhich is :  63\n \nFor the matrix with dimension:  63 x 63   the f(m,n), i.e. nullspaces, is 0\n \n \n \n----------------------------\nMatrix  70 x 70 . Where m = 7 and n= 10\nFor the matrix with dimension:  70 x 70  the matrix has 0 linearly dependent columns\n \nGiven that the rank is the number of linearly independent columns,\nit means thath  the rank of A is number of columns - the number of linearly dependent columns, \nwhich is :  70\n \nFor the matrix with dimension:  70 x 70   the f(m,n), i.e. nullspaces, is 0\n \n \n \n----------------------------\nMatrix  8 x 8 . Where m = 8 and n= 1\nFor the matrix with dimension:  8 x 8  the matrix has 1 linearly dependent columns\n \nGiven that the rank is the number of linearly independent columns,\nit means thath  the rank of A is number of columns - the number of linearly dependent columns, \nwhich is :  7\n \nFor the matrix with dimension:  8 x 8   the f(m,n), i.e. nullspaces, is 1\n \n \n \n----------------------------\nMatrix  16 x 16 . Where m = 8 and n= 2\nFor the matrix with dimension:  16 x 16  the matrix has 0 linearly dependent columns\n \nGiven that the rank is the number of linearly independent columns,\nit means thath  the rank of A is number of columns - the number of linearly dependent columns, \nwhich is :  16\n \nFor the matrix with dimension:  16 x 16   the f(m,n), i.e. nullspaces, is 0\n \n \n \n----------------------------\nMatrix  24 x 24 . Where m = 8 and n= 3\nFor the matrix with dimension:  24 x 24  the matrix has 2 linearly dependent columns\n \nGiven that the rank is the number of linearly independent columns,\nit means thath  the rank of A is number of columns - the number of linearly dependent columns, \nwhich is :  22\n \nFor the matrix with dimension:  24 x 24   the f(m,n), i.e. nullspaces, is 2\n \n \n \n----------------------------\nMatrix  32 x 32 . Where m = 8 and n= 4\nFor the matrix with dimension:  32 x 32  the matrix has 0 linearly dependent columns\n \nGiven that the rank is the number of linearly independent columns,\nit means thath  the rank of A is number of columns - the number of linearly dependent columns, \nwhich is :  32\n \nFor the matrix with dimension:  32 x 32   the f(m,n), i.e. nullspaces, is 0\n \n \n \n----------------------------\nMatrix  40 x 40 . Where m = 8 and n= 5\nFor the matrix with dimension:  40 x 40  the matrix has 1 linearly dependent columns\n \nGiven that the rank is the number of linearly independent columns,\nit means thath  the rank of A is number of columns - the number of linearly dependent columns, \nwhich is :  39\n \nFor the matrix with dimension:  40 x 40   the f(m,n), i.e. nullspaces, is 1\n \n \n \n----------------------------\nMatrix  48 x 48 . Where m = 8 and n= 6\nFor the matrix with dimension:  48 x 48  the matrix has 6 linearly dependent columns\n \nGiven that the rank is the number of linearly independent columns,\nit means thath  the rank of A is number of columns - the number of linearly dependent columns, \nwhich is :  42\n \nFor the matrix with dimension:  48 x 48   the f(m,n), i.e. nullspaces, is 6\n \n \n \n----------------------------\nMatrix  56 x 56 . Where m = 8 and n= 7\nFor the matrix with dimension:  56 x 56  the matrix has 2 linearly dependent columns\n \nGiven that the rank is the number of linearly independent columns,\nit means thath  the rank of A is number of columns - the number of linearly dependent columns, \nwhich is :  54\n \nFor the matrix with dimension:  56 x 56   the f(m,n), i.e. nullspaces, is 2\n \n \n \n----------------------------\nMatrix  64 x 64 . Where m = 8 and n= 8\nFor the matrix with dimension:  64 x 64  the matrix has 0 linearly dependent columns\n \nGiven that the rank is the number of linearly independent columns,\nit means thath  the rank of A is number of columns - the number of linearly dependent columns, \nwhich is :  64\n \nFor the matrix with dimension:  64 x 64   the f(m,n), i.e. nullspaces, is 0\n \n \n \n----------------------------\nMatrix  72 x 72 . Where m = 8 and n= 9\nFor the matrix with dimension:  72 x 72  the matrix has 1 linearly dependent columns\n \nGiven that the rank is the number of linearly independent columns,\nit means thath  the rank of A is number of columns - the number of linearly dependent columns, \nwhich is :  71\n \nFor the matrix with dimension:  72 x 72   the f(m,n), i.e. nullspaces, is 1\n \n \n \n----------------------------\nMatrix  80 x 80 . Where m = 8 and n= 10\nFor the matrix with dimension:  80 x 80  the matrix has 0 linearly dependent columns\n \nGiven that the rank is the number of linearly independent columns,\nit means thath  the rank of A is number of columns - the number of linearly dependent columns, \nwhich is :  80\n \nFor the matrix with dimension:  80 x 80   the f(m,n), i.e. nullspaces, is 0\n \n \n \n----------------------------\nMatrix  9 x 9 . Where m = 9 and n= 1\nFor the matrix with dimension:  9 x 9  the matrix has 0 linearly dependent columns\n \nGiven that the rank is the number of linearly independent columns,\nit means thath  the rank of A is number of columns - the number of linearly dependent columns, \nwhich is :  9\n \nFor the matrix with dimension:  9 x 9   the f(m,n), i.e. nullspaces, is 0\n \n \n \n----------------------------\nMatrix  18 x 18 . Where m = 9 and n= 2\nFor the matrix with dimension:  18 x 18  the matrix has 1 linearly dependent columns\n \nGiven that the rank is the number of linearly independent columns,\nit means thath  the rank of A is number of columns - the number of linearly dependent columns, \nwhich is :  17\n \nFor the matrix with dimension:  18 x 18   the f(m,n), i.e. nullspaces, is 1\n \n \n \n----------------------------\nMatrix  27 x 27 . Where m = 9 and n= 3\nFor the matrix with dimension:  27 x 27  the matrix has 0 linearly dependent columns\n \nGiven that the rank is the number of linearly independent columns,\nit means thath  the rank of A is number of columns - the number of linearly dependent columns, \nwhich is :  27\n \nFor the matrix with dimension:  27 x 27   the f(m,n), i.e. nullspaces, is 0\n \n \n \n----------------------------\nMatrix  36 x 36 . Where m = 9 and n= 4\nFor the matrix with dimension:  36 x 36  the matrix has 4 linearly dependent columns\n \nGiven that the rank is the number of linearly independent columns,\nit means thath  the rank of A is number of columns - the number of linearly dependent columns, \nwhich is :  32\n \nFor the matrix with dimension:  36 x 36   the f(m,n), i.e. nullspaces, is 4\n \n \n \n----------------------------\nMatrix  45 x 45 . Where m = 9 and n= 5\nFor the matrix with dimension:  45 x 45  the matrix has 1 linearly dependent columns\n \nGiven that the rank is the number of linearly independent columns,\nit means thath  the rank of A is number of columns - the number of linearly dependent columns, \nwhich is :  44\n \nFor the matrix with dimension:  45 x 45   the f(m,n), i.e. nullspaces, is 1\n \n \n \n----------------------------\nMatrix  54 x 54 . Where m = 9 and n= 6\nFor the matrix with dimension:  54 x 54  the matrix has 0 linearly dependent columns\n \nGiven that the rank is the number of linearly independent columns,\nit means thath  the rank of A is number of columns - the number of linearly dependent columns, \nwhich is :  54\n \nFor the matrix with dimension:  54 x 54   the f(m,n), i.e. nullspaces, is 0\n \n \n \n----------------------------\nMatrix  63 x 63 . Where m = 9 and n= 7\nFor the matrix with dimension:  63 x 63  the matrix has 0 linearly dependent columns\n \nGiven that the rank is the number of linearly independent columns,\nit means thath  the rank of A is number of columns - the number of linearly dependent columns, \nwhich is :  63\n \nFor the matrix with dimension:  63 x 63   the f(m,n), i.e. nullspaces, is 0\n \n \n \n----------------------------\nMatrix  72 x 72 . Where m = 9 and n= 8\nFor the matrix with dimension:  72 x 72  the matrix has 1 linearly dependent columns\n \nGiven that the rank is the number of linearly independent columns,\nit means thath  the rank of A is number of columns - the number of linearly dependent columns, \nwhich is :  71\n \nFor the matrix with dimension:  72 x 72   the f(m,n), i.e. nullspaces, is 1\n \n \n \n----------------------------\nMatrix  81 x 81 . Where m = 9 and n= 9\nFor the matrix with dimension:  81 x 81  the matrix has 8 linearly dependent columns\n \nGiven that the rank is the number of linearly independent columns,\nit means thath  the rank of A is number of columns - the number of linearly dependent columns, \nwhich is :  73\n \nFor the matrix with dimension:  81 x 81   the f(m,n), i.e. nullspaces, is 8\n \n \n \n----------------------------\nMatrix  90 x 90 . Where m = 9 and n= 10\nFor the matrix with dimension:  90 x 90  the matrix has 0 linearly dependent columns\n \nGiven that the rank is the number of linearly independent columns,\nit means thath  the rank of A is number of columns - the number of linearly dependent columns, \nwhich is :  90\n \nFor the matrix with dimension:  90 x 90   the f(m,n), i.e. nullspaces, is 0\n \n \n \n----------------------------\nMatrix  10 x 10 . Where m = 10 and n= 1\nFor the matrix with dimension:  10 x 10  the matrix has 0 linearly dependent columns\n \nGiven that the rank is the number of linearly independent columns,\nit means thath  the rank of A is number of columns - the number of linearly dependent columns, \nwhich is :  10\n \nFor the matrix with dimension:  10 x 10   the f(m,n), i.e. nullspaces, is 0\n \n \n \n----------------------------\nMatrix  20 x 20 . Where m = 10 and n= 2\nFor the matrix with dimension:  20 x 20  the matrix has 0 linearly dependent columns\n \nGiven that the rank is the number of linearly independent columns,\nit means thath  the rank of A is number of columns - the number of linearly dependent columns, \nwhich is :  20\n \nFor the matrix with dimension:  20 x 20   the f(m,n), i.e. nullspaces, is 0\n \n \n \n----------------------------\nMatrix  30 x 30 . Where m = 10 and n= 3\nFor the matrix with dimension:  30 x 30  the matrix has 0 linearly dependent columns\n \nGiven that the rank is the number of linearly independent columns,\nit means thath  the rank of A is number of columns - the number of linearly dependent columns, \nwhich is :  30\n \nFor the matrix with dimension:  30 x 30   the f(m,n), i.e. nullspaces, is 0\n \n \n \n----------------------------\nMatrix  40 x 40 . Where m = 10 and n= 4\nFor the matrix with dimension:  40 x 40  the matrix has 0 linearly dependent columns\n \nGiven that the rank is the number of linearly independent columns,\nit means thath  the rank of A is number of columns - the number of linearly dependent columns, \nwhich is :  40\n \nFor the matrix with dimension:  40 x 40   the f(m,n), i.e. nullspaces, is 0\n \n \n \n----------------------------\nMatrix  50 x 50 . Where m = 10 and n= 5\nFor the matrix with dimension:  50 x 50  the matrix has 0 linearly dependent columns\n \nGiven that the rank is the number of linearly independent columns,\nit means thath  the rank of A is number of columns - the number of linearly dependent columns, \nwhich is :  50\n \nFor the matrix with dimension:  50 x 50   the f(m,n), i.e. nullspaces, is 0\n \n \n \n----------------------------\nMatrix  60 x 60 . Where m = 10 and n= 6\nFor the matrix with dimension:  60 x 60  the matrix has 0 linearly dependent columns\n \nGiven that the rank is the number of linearly independent columns,\nit means thath  the rank of A is number of columns - the number of linearly dependent columns, \nwhich is :  60\n \nFor the matrix with dimension:  60 x 60   the f(m,n), i.e. nullspaces, is 0\n \n \n \n----------------------------\nMatrix  70 x 70 . Where m = 10 and n= 7\nFor the matrix with dimension:  70 x 70  the matrix has 0 linearly dependent columns\n \nGiven that the rank is the number of linearly independent columns,\nit means thath  the rank of A is number of columns - the number of linearly dependent columns, \nwhich is :  70\n \nFor the matrix with dimension:  70 x 70   the f(m,n), i.e. nullspaces, is 0\n \n \n \n----------------------------\nMatrix  80 x 80 . Where m = 10 and n= 8\nFor the matrix with dimension:  80 x 80  the matrix has 0 linearly dependent columns\n \nGiven that the rank is the number of linearly independent columns,\nit means thath  the rank of A is number of columns - the number of linearly dependent columns, \nwhich is :  80\n \nFor the matrix with dimension:  80 x 80   the f(m,n), i.e. nullspaces, is 0\n \n \n \n----------------------------\nMatrix  90 x 90 . Where m = 10 and n= 9\nFor the matrix with dimension:  90 x 90  the matrix has 0 linearly dependent columns\n \nGiven that the rank is the number of linearly independent columns,\nit means thath  the rank of A is number of columns - the number of linearly dependent columns, \nwhich is :  90\n \nFor the matrix with dimension:  90 x 90   the f(m,n), i.e. nullspaces, is 0\n \n \n \n----------------------------\nMatrix  100 x 100 . Where m = 10 and n= 10\nFor the matrix with dimension:  100 x 100  the matrix has 0 linearly dependent columns\n \nGiven that the rank is the number of linearly independent columns,\nit means thath  the rank of A is number of columns - the number of linearly dependent columns, \nwhich is :  100\n \nFor the matrix with dimension:  100 x 100   the f(m,n), i.e. nullspaces, is 0\n \n \n \n",
     "output_type": "stream"
    }
   ],
   "execution_count": null
  },
  {
   "cell_type": "code",
   "source": "",
   "metadata": {
    "tags": [],
    "cell_id": "00054-94c15e91-f55f-4574-8091-2e6253813de9",
    "deepnote_to_be_reexecuted": false,
    "source_hash": "b623e53d",
    "execution_start": 1634053886414,
    "execution_millis": 2,
    "deepnote_cell_type": "code"
   },
   "outputs": [],
   "execution_count": null
  },
  {
   "cell_type": "markdown",
   "source": "<a style='text-decoration:none;line-height:16px;display:flex;color:#5B5B62;padding:10px;justify-content:end;' href='https://deepnote.com?utm_source=created-in-deepnote-cell&projectId=a0d6e3b1-935d-45a3-9a1d-c6294c9bb153' target=\"_blank\">\n<img alt='Created in deepnote.com' style='display:inline;max-height:16px;margin:0px;margin-right:7.5px;' src='data:image/svg+xml;base64,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' > </img>\nCreated in <span style='font-weight:600;margin-left:4px;'>Deepnote</span></a>",
   "metadata": {
    "tags": [],
    "created_in_deepnote_cell": true,
    "deepnote_cell_type": "markdown"
   }
  }
 ],
 "nbformat": 4,
 "nbformat_minor": 2,
 "metadata": {
  "orig_nbformat": 2,
  "deepnote": {
   "is_reactive": false
  },
  "deepnote_notebook_id": "31f11ef0-d55c-4e1e-8c97-1451d5e53cbf",
  "deepnote_execution_queue": []
 }
}